{
 "cells": [
  {
   "cell_type": "code",
   "execution_count": 1,
   "metadata": {},
   "outputs": [],
   "source": [
    "from PIL import Image"
   ]
  },
  {
   "cell_type": "code",
   "execution_count": 2,
   "metadata": {},
   "outputs": [],
   "source": [
    "im = Image.open('Material/แพทองธาร-ชินวัตร.webp')"
   ]
  },
  {
   "cell_type": "code",
   "execution_count": 11,
   "metadata": {},
   "outputs": [],
   "source": [
    "def resize_maintain_ratio(im: Image, x: int) -> Image:\n",
    "    width, height = im.size\n",
    "    aspect_ratio = height / width\n",
    "    new_width = x\n",
    "    new_height = int(new_width * aspect_ratio)\n",
    "    return im.resize((new_width, new_height))\n",
    "\n",
    "def convert_lur12xywh_to_centroid(coordinates: tuple[int,int,int,int]) -> tuple:\n",
    "    left, upper, right, lower = coordinates\n",
    "    width = right - left\n",
    "    height = lower - upper\n",
    "    x = left + width // 2\n",
    "    y = upper + height // 2\n",
    "    return (x, y, width, height)\n",
    "\n",
    "def centroid_to_lur12xywh(coordinates: tuple[int, int, int, int]) -> tuple:\n",
    "    x, y, width, height = coordinates\n",
    "    left = x - width // 2\n",
    "    upper = y - height // 2\n",
    "    right = left + width\n",
    "    lower = upper + height\n",
    "    return (left, upper, right, lower)"
   ]
  },
  {
   "cell_type": "code",
   "execution_count": 12,
   "metadata": {},
   "outputs": [],
   "source": [
    "new_coordinates = convert_lur12xywh_to_centroid((90, 15, 200, 600))\n",
    "lur12_coordinates = centroid_to_lur12xywh(new_coordinates)\n",
    "cropped_im = im.crop(lur12_coordinates)\n",
    "cropped_im.show()"
   ]
  }
 ],
 "metadata": {
  "kernelspec": {
   "display_name": "Python 3",
   "language": "python",
   "name": "python3"
  },
  "language_info": {
   "codemirror_mode": {
    "name": "ipython",
    "version": 3
   },
   "file_extension": ".py",
   "mimetype": "text/x-python",
   "name": "python",
   "nbconvert_exporter": "python",
   "pygments_lexer": "ipython3",
   "version": "3.11.4"
  },
  "orig_nbformat": 4
 },
 "nbformat": 4,
 "nbformat_minor": 2
}
