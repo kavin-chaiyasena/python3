{
 "cells": [
  {
   "cell_type": "code",
   "execution_count": 2,
   "metadata": {},
   "outputs": [],
   "source": [
    "from PIL import Image, ImageOps\n",
    "import numpy as np"
   ]
  },
  {
   "cell_type": "code",
   "execution_count": 3,
   "metadata": {},
   "outputs": [],
   "source": [
    "im = Image.open('Material/แพทองธาร-ชินวัตร.webp')"
   ]
  },
  {
   "cell_type": "code",
   "execution_count": 4,
   "metadata": {},
   "outputs": [],
   "source": [
    "def resize_maintain_ratio(im: Image,x: int) -> Image :\n",
    "    width, height = im.size\n",
    "    aspect_ratio = height / width\n",
    "    new_width = x\n",
    "    new_height = int(new_width * aspect_ratio)\n",
    "    \n",
    "    return im.resize((new_width, new_height))\n",
    "\n",
    "def convert_lur12xywh(coordinates: tuple[int,int,int,int]) -> tuple :\n",
    "    left, upper, right, lower = coordinates\n",
    "    x = left\n",
    "    y = upper\n",
    "    width = right - left\n",
    "    height = lower - upper\n",
    "    \n",
    "    return (x, y, width, height)"
   ]
  },
  {
   "cell_type": "code",
   "execution_count": 5,
   "metadata": {},
   "outputs": [],
   "source": [
    "new_coordinates = convert_lur12xywh((90, 15, 200, 600))\n",
    "cropped_im = im.crop(new_coordinates)\n",
    "cropped_im.show()"
   ]
  }
 ],
 "metadata": {
  "kernelspec": {
   "display_name": "Python 3",
   "language": "python",
   "name": "python3"
  },
  "language_info": {
   "codemirror_mode": {
    "name": "ipython",
    "version": 3
   },
   "file_extension": ".py",
   "mimetype": "text/x-python",
   "name": "python",
   "nbconvert_exporter": "python",
   "pygments_lexer": "ipython3",
   "version": "3.11.4"
  },
  "orig_nbformat": 4
 },
 "nbformat": 4,
 "nbformat_minor": 2
}
